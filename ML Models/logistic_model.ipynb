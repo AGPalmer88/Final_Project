{
 "cells": [
  {
   "cell_type": "code",
   "execution_count": 1,
   "metadata": {},
   "outputs": [],
   "source": [
    "import pandas as pd\n",
    "import numpy as np\n",
    "from numpy.random import seed\n",
    "seed(42)\n",
    "from sklearn.linear_model import LogisticRegression\n",
    "from sklearn.model_selection import train_test_split\n",
    "from sklearn.preprocessing import LabelEncoder\n",
    "from sklearn.preprocessing import StandardScaler\n",
    "import matplotlib.pyplot as plt"
   ]
  },
  {
   "cell_type": "markdown",
   "metadata": {},
   "source": [
    "## Data Preprocessing"
   ]
  },
  {
   "cell_type": "code",
   "execution_count": null,
   "metadata": {},
   "outputs": [],
   "source": [
    "# Read in movie csv\n",
    "movies = pd.read_csv(\"../Resources/imdb_final.csv\")\n",
    "movies.head()"
   ]
  },
  {
   "cell_type": "code",
   "execution_count": null,
   "metadata": {},
   "outputs": [],
   "source": []
  },
  {
   "cell_type": "code",
   "execution_count": 3,
   "metadata": {},
   "outputs": [
    {
     "name": "stdout",
     "output_type": "stream",
     "text": [
      "(5060, 5) (5060, 1)\n"
     ]
    }
   ],
   "source": [
    "# Set values for X and y\n",
    "X = movies[[\"year\", \"genre\", \"duration\", \"director\", \"budget\"]]\n",
    "y = movies[\"rating_class\"].values.reshape(-1,1)\n",
    "print(X.shape, y.shape)"
   ]
  },
  {
   "cell_type": "code",
   "execution_count": 4,
   "metadata": {},
   "outputs": [
    {
     "data": {
      "text/html": [
       "<div>\n",
       "<style scoped>\n",
       "    .dataframe tbody tr th:only-of-type {\n",
       "        vertical-align: middle;\n",
       "    }\n",
       "\n",
       "    .dataframe tbody tr th {\n",
       "        vertical-align: top;\n",
       "    }\n",
       "\n",
       "    .dataframe thead th {\n",
       "        text-align: right;\n",
       "    }\n",
       "</style>\n",
       "<table border=\"1\" class=\"dataframe\">\n",
       "  <thead>\n",
       "    <tr style=\"text-align: right;\">\n",
       "      <th></th>\n",
       "      <th>year</th>\n",
       "      <th>genre</th>\n",
       "      <th>duration</th>\n",
       "      <th>director</th>\n",
       "      <th>budget</th>\n",
       "    </tr>\n",
       "  </thead>\n",
       "  <tbody>\n",
       "    <tr>\n",
       "      <th>0</th>\n",
       "      <td>2001</td>\n",
       "      <td>Comedy</td>\n",
       "      <td>118</td>\n",
       "      <td>James Mangold</td>\n",
       "      <td>48000000</td>\n",
       "    </tr>\n",
       "    <tr>\n",
       "      <th>1</th>\n",
       "      <td>2000</td>\n",
       "      <td>Musical</td>\n",
       "      <td>86</td>\n",
       "      <td>Michael Ritchie</td>\n",
       "      <td>10000000</td>\n",
       "    </tr>\n",
       "    <tr>\n",
       "      <th>2</th>\n",
       "      <td>2001</td>\n",
       "      <td>Drama</td>\n",
       "      <td>104</td>\n",
       "      <td>Vondie Curtis-Hall</td>\n",
       "      <td>22000000</td>\n",
       "    </tr>\n",
       "    <tr>\n",
       "      <th>3</th>\n",
       "      <td>2001</td>\n",
       "      <td>Comedy</td>\n",
       "      <td>100</td>\n",
       "      <td>Jeremy Kasten</td>\n",
       "      <td>1000000</td>\n",
       "    </tr>\n",
       "    <tr>\n",
       "      <th>4</th>\n",
       "      <td>2000</td>\n",
       "      <td>Crime</td>\n",
       "      <td>87</td>\n",
       "      <td>Bryan Johnson</td>\n",
       "      <td>120000</td>\n",
       "    </tr>\n",
       "    <tr>\n",
       "      <th>...</th>\n",
       "      <td>...</td>\n",
       "      <td>...</td>\n",
       "      <td>...</td>\n",
       "      <td>...</td>\n",
       "      <td>...</td>\n",
       "    </tr>\n",
       "    <tr>\n",
       "      <th>5055</th>\n",
       "      <td>2019</td>\n",
       "      <td>Comedy</td>\n",
       "      <td>84</td>\n",
       "      <td>Jon Lucas</td>\n",
       "      <td>5000000</td>\n",
       "    </tr>\n",
       "    <tr>\n",
       "      <th>5056</th>\n",
       "      <td>2019</td>\n",
       "      <td>Drama</td>\n",
       "      <td>94</td>\n",
       "      <td>Dan Sallitt</td>\n",
       "      <td>95000</td>\n",
       "    </tr>\n",
       "    <tr>\n",
       "      <th>5057</th>\n",
       "      <td>2019</td>\n",
       "      <td>Action</td>\n",
       "      <td>84</td>\n",
       "      <td>Glenn Miller</td>\n",
       "      <td>100000</td>\n",
       "    </tr>\n",
       "    <tr>\n",
       "      <th>5058</th>\n",
       "      <td>2019</td>\n",
       "      <td>Action</td>\n",
       "      <td>92</td>\n",
       "      <td>Keoni Waxman</td>\n",
       "      <td>3000000</td>\n",
       "    </tr>\n",
       "    <tr>\n",
       "      <th>5059</th>\n",
       "      <td>2019</td>\n",
       "      <td>Horror</td>\n",
       "      <td>77</td>\n",
       "      <td>Robin Entreinger</td>\n",
       "      <td>500000</td>\n",
       "    </tr>\n",
       "  </tbody>\n",
       "</table>\n",
       "<p>5060 rows × 5 columns</p>\n",
       "</div>"
      ],
      "text/plain": [
       "      year    genre  duration            director    budget\n",
       "0     2001   Comedy       118       James Mangold  48000000\n",
       "1     2000  Musical        86     Michael Ritchie  10000000\n",
       "2     2001    Drama       104  Vondie Curtis-Hall  22000000\n",
       "3     2001   Comedy       100       Jeremy Kasten   1000000\n",
       "4     2000    Crime        87       Bryan Johnson    120000\n",
       "...    ...      ...       ...                 ...       ...\n",
       "5055  2019   Comedy        84           Jon Lucas   5000000\n",
       "5056  2019    Drama        94         Dan Sallitt     95000\n",
       "5057  2019   Action        84        Glenn Miller    100000\n",
       "5058  2019   Action        92        Keoni Waxman   3000000\n",
       "5059  2019   Horror        77    Robin Entreinger    500000\n",
       "\n",
       "[5060 rows x 5 columns]"
      ]
     },
     "execution_count": 4,
     "metadata": {},
     "output_type": "execute_result"
    }
   ],
   "source": [
    "data = X.copy()\n",
    "data"
   ]
  },
  {
   "cell_type": "code",
   "execution_count": 5,
   "metadata": {},
   "outputs": [
    {
     "data": {
      "text/html": [
       "<div>\n",
       "<style scoped>\n",
       "    .dataframe tbody tr th:only-of-type {\n",
       "        vertical-align: middle;\n",
       "    }\n",
       "\n",
       "    .dataframe tbody tr th {\n",
       "        vertical-align: top;\n",
       "    }\n",
       "\n",
       "    .dataframe thead th {\n",
       "        text-align: right;\n",
       "    }\n",
       "</style>\n",
       "<table border=\"1\" class=\"dataframe\">\n",
       "  <thead>\n",
       "    <tr style=\"text-align: right;\">\n",
       "      <th></th>\n",
       "      <th>year</th>\n",
       "      <th>duration</th>\n",
       "      <th>budget</th>\n",
       "      <th>genre_Action</th>\n",
       "      <th>genre_Adventure</th>\n",
       "      <th>genre_Animation</th>\n",
       "      <th>genre_Biography</th>\n",
       "      <th>genre_Comedy</th>\n",
       "      <th>genre_Crime</th>\n",
       "      <th>genre_Drama</th>\n",
       "      <th>...</th>\n",
       "      <th>director_Zack Snyder</th>\n",
       "      <th>director_Zackary Adler</th>\n",
       "      <th>director_Zak Knutson</th>\n",
       "      <th>director_Zak Penn</th>\n",
       "      <th>director_Zebediah De Soto</th>\n",
       "      <th>director_Zia Mojabi</th>\n",
       "      <th>director_Ziad H. Hamzeh</th>\n",
       "      <th>director_Zoe Quist</th>\n",
       "      <th>director_Zoran Lisinac</th>\n",
       "      <th>director_mink</th>\n",
       "    </tr>\n",
       "  </thead>\n",
       "  <tbody>\n",
       "    <tr>\n",
       "      <th>0</th>\n",
       "      <td>2001</td>\n",
       "      <td>118</td>\n",
       "      <td>48000000</td>\n",
       "      <td>0</td>\n",
       "      <td>0</td>\n",
       "      <td>0</td>\n",
       "      <td>0</td>\n",
       "      <td>1</td>\n",
       "      <td>0</td>\n",
       "      <td>0</td>\n",
       "      <td>...</td>\n",
       "      <td>0</td>\n",
       "      <td>0</td>\n",
       "      <td>0</td>\n",
       "      <td>0</td>\n",
       "      <td>0</td>\n",
       "      <td>0</td>\n",
       "      <td>0</td>\n",
       "      <td>0</td>\n",
       "      <td>0</td>\n",
       "      <td>0</td>\n",
       "    </tr>\n",
       "    <tr>\n",
       "      <th>1</th>\n",
       "      <td>2000</td>\n",
       "      <td>86</td>\n",
       "      <td>10000000</td>\n",
       "      <td>0</td>\n",
       "      <td>0</td>\n",
       "      <td>0</td>\n",
       "      <td>0</td>\n",
       "      <td>0</td>\n",
       "      <td>0</td>\n",
       "      <td>0</td>\n",
       "      <td>...</td>\n",
       "      <td>0</td>\n",
       "      <td>0</td>\n",
       "      <td>0</td>\n",
       "      <td>0</td>\n",
       "      <td>0</td>\n",
       "      <td>0</td>\n",
       "      <td>0</td>\n",
       "      <td>0</td>\n",
       "      <td>0</td>\n",
       "      <td>0</td>\n",
       "    </tr>\n",
       "    <tr>\n",
       "      <th>2</th>\n",
       "      <td>2001</td>\n",
       "      <td>104</td>\n",
       "      <td>22000000</td>\n",
       "      <td>0</td>\n",
       "      <td>0</td>\n",
       "      <td>0</td>\n",
       "      <td>0</td>\n",
       "      <td>0</td>\n",
       "      <td>0</td>\n",
       "      <td>1</td>\n",
       "      <td>...</td>\n",
       "      <td>0</td>\n",
       "      <td>0</td>\n",
       "      <td>0</td>\n",
       "      <td>0</td>\n",
       "      <td>0</td>\n",
       "      <td>0</td>\n",
       "      <td>0</td>\n",
       "      <td>0</td>\n",
       "      <td>0</td>\n",
       "      <td>0</td>\n",
       "    </tr>\n",
       "    <tr>\n",
       "      <th>3</th>\n",
       "      <td>2001</td>\n",
       "      <td>100</td>\n",
       "      <td>1000000</td>\n",
       "      <td>0</td>\n",
       "      <td>0</td>\n",
       "      <td>0</td>\n",
       "      <td>0</td>\n",
       "      <td>1</td>\n",
       "      <td>0</td>\n",
       "      <td>0</td>\n",
       "      <td>...</td>\n",
       "      <td>0</td>\n",
       "      <td>0</td>\n",
       "      <td>0</td>\n",
       "      <td>0</td>\n",
       "      <td>0</td>\n",
       "      <td>0</td>\n",
       "      <td>0</td>\n",
       "      <td>0</td>\n",
       "      <td>0</td>\n",
       "      <td>0</td>\n",
       "    </tr>\n",
       "    <tr>\n",
       "      <th>4</th>\n",
       "      <td>2000</td>\n",
       "      <td>87</td>\n",
       "      <td>120000</td>\n",
       "      <td>0</td>\n",
       "      <td>0</td>\n",
       "      <td>0</td>\n",
       "      <td>0</td>\n",
       "      <td>0</td>\n",
       "      <td>1</td>\n",
       "      <td>0</td>\n",
       "      <td>...</td>\n",
       "      <td>0</td>\n",
       "      <td>0</td>\n",
       "      <td>0</td>\n",
       "      <td>0</td>\n",
       "      <td>0</td>\n",
       "      <td>0</td>\n",
       "      <td>0</td>\n",
       "      <td>0</td>\n",
       "      <td>0</td>\n",
       "      <td>0</td>\n",
       "    </tr>\n",
       "  </tbody>\n",
       "</table>\n",
       "<p>5 rows × 3537 columns</p>\n",
       "</div>"
      ],
      "text/plain": [
       "   year  duration    budget  genre_Action  genre_Adventure  genre_Animation  \\\n",
       "0  2001       118  48000000             0                0                0   \n",
       "1  2000        86  10000000             0                0                0   \n",
       "2  2001       104  22000000             0                0                0   \n",
       "3  2001       100   1000000             0                0                0   \n",
       "4  2000        87    120000             0                0                0   \n",
       "\n",
       "   genre_Biography  genre_Comedy  genre_Crime  genre_Drama  ...  \\\n",
       "0                0             1            0            0  ...   \n",
       "1                0             0            0            0  ...   \n",
       "2                0             0            0            1  ...   \n",
       "3                0             1            0            0  ...   \n",
       "4                0             0            1            0  ...   \n",
       "\n",
       "   director_Zack Snyder  director_Zackary Adler  director_Zak Knutson  \\\n",
       "0                     0                       0                     0   \n",
       "1                     0                       0                     0   \n",
       "2                     0                       0                     0   \n",
       "3                     0                       0                     0   \n",
       "4                     0                       0                     0   \n",
       "\n",
       "   director_Zak Penn  director_Zebediah De Soto  director_Zia Mojabi  \\\n",
       "0                  0                          0                    0   \n",
       "1                  0                          0                    0   \n",
       "2                  0                          0                    0   \n",
       "3                  0                          0                    0   \n",
       "4                  0                          0                    0   \n",
       "\n",
       "   director_Ziad H. Hamzeh  director_Zoe Quist  director_Zoran Lisinac  \\\n",
       "0                        0                   0                       0   \n",
       "1                        0                   0                       0   \n",
       "2                        0                   0                       0   \n",
       "3                        0                   0                       0   \n",
       "4                        0                   0                       0   \n",
       "\n",
       "   director_mink  \n",
       "0              0  \n",
       "1              0  \n",
       "2              0  \n",
       "3              0  \n",
       "4              0  \n",
       "\n",
       "[5 rows x 3537 columns]"
      ]
     },
     "execution_count": 5,
     "metadata": {},
     "output_type": "execute_result"
    }
   ],
   "source": [
    "# Dummy Encoding for genre column\n",
    "data_binary_encoded = pd.get_dummies(data, columns= [\"genre\", \"director\"])\n",
    "data_binary_encoded.head()"
   ]
  },
  {
   "cell_type": "code",
   "execution_count": 12,
   "metadata": {},
   "outputs": [],
   "source": [
    "# Create train/test split\n",
    "X_train, X_test, y_train, y_test = train_test_split(data_binary_encoded, y, random_state=42, stratify= y)\n"
   ]
  },
  {
   "cell_type": "code",
   "execution_count": 13,
   "metadata": {},
   "outputs": [
    {
     "name": "stderr",
     "output_type": "stream",
     "text": [
      "C:\\Users\\jewel\\AppData\\Local\\Continuum\\anaconda3\\envs\\PythonAdv\\lib\\site-packages\\sklearn\\utils\\validation.py:73: DataConversionWarning: A column-vector y was passed when a 1d array was expected. Please change the shape of y to (n_samples, ), for example using ravel().\n",
      "  return f(**kwargs)\n"
     ]
    },
    {
     "data": {
      "text/plain": [
       "array([[1],\n",
       "       [0],\n",
       "       [0],\n",
       "       ...,\n",
       "       [0],\n",
       "       [2],\n",
       "       [2]])"
      ]
     },
     "execution_count": 13,
     "metadata": {},
     "output_type": "execute_result"
    }
   ],
   "source": [
    "label_encoder = LabelEncoder()\n",
    "label_encoder.fit(y_train)\n",
    "encoded_y_train = label_encoder.transform(y_train).reshape(-1,1)\n",
    "encoded_y_test = label_encoder.transform(y_test).reshape(-1,1)\n",
    "encoded_y_train"
   ]
  },
  {
   "cell_type": "code",
   "execution_count": 14,
   "metadata": {},
   "outputs": [],
   "source": [
    "# Create StandardScaler model and fit to training data\n",
    "X_scaler = StandardScaler().fit(X_train)\n",
    "# y_scaler = StandardScaler().fit(encoded_y_train)\n",
    "\n",
    "# Transform training and testing data using X_scaler and y_scaler\n",
    "X_train_scaled = X_scaler.transform(X_train)\n",
    "X_test_scaled = X_scaler.transform(X_test)\n",
    "# y_train_scaled = y_scaler.transform(encoded_y_train)\n",
    "# y_test_scaled = y_scaler.transform(encoded_y_test)\n",
    "# print(y_train_scaled)"
   ]
  },
  {
   "cell_type": "markdown",
   "metadata": {},
   "source": [
    "## Create Logistic Regression Model"
   ]
  },
  {
   "cell_type": "code",
   "execution_count": 15,
   "metadata": {},
   "outputs": [
    {
     "name": "stderr",
     "output_type": "stream",
     "text": [
      "C:\\Users\\jewel\\AppData\\Local\\Continuum\\anaconda3\\envs\\PythonAdv\\lib\\site-packages\\sklearn\\utils\\validation.py:73: DataConversionWarning: A column-vector y was passed when a 1d array was expected. Please change the shape of y to (n_samples, ), for example using ravel().\n",
      "  return f(**kwargs)\n"
     ]
    },
    {
     "data": {
      "text/plain": [
       "LogisticRegression(max_iter=1000)"
      ]
     },
     "execution_count": 15,
     "metadata": {},
     "output_type": "execute_result"
    }
   ],
   "source": [
    "# Create elasiticnet regression model\n",
    "log_model = LogisticRegression(max_iter=1000)\n",
    "log_model.fit(X_train_scaled, encoded_y_train)\n"
   ]
  },
  {
   "cell_type": "code",
   "execution_count": 16,
   "metadata": {},
   "outputs": [
    {
     "name": "stdout",
     "output_type": "stream",
     "text": [
      "Logistic Regression Training Score:  0.953\n",
      "Logistic Regression Testing Score:  0.661\n"
     ]
    }
   ],
   "source": [
    "training_score = log_model.score(X_train_scaled, encoded_y_train)\n",
    "testing_score = log_model.score(X_test_scaled, encoded_y_test)\n",
    "print(f\"Logistic Regression Training Score: {training_score: .3f}\")\n",
    "print(f\"Logistic Regression Testing Score: {testing_score: .3f}\")"
   ]
  },
  {
   "cell_type": "code",
   "execution_count": 17,
   "metadata": {},
   "outputs": [
    {
     "name": "stdout",
     "output_type": "stream",
     "text": [
      "['Good' 'Good' 'Excellent' 'Good' 'Good' 'Good' 'Good' 'Good' 'Good'\n",
      " 'Good']\n",
      "[['Good']\n",
      " ['Excellent']\n",
      " ['Excellent']\n",
      " ['Good']\n",
      " ['Good']\n",
      " ['Bad']\n",
      " ['Good']\n",
      " ['Good']\n",
      " ['Bad']\n",
      " ['Excellent']]\n"
     ]
    }
   ],
   "source": [
    "predictions_train = log_model.predict(X_train_scaled)\n",
    "predictions_test = log_model.predict(X_test_scaled)\n",
    "prediction_labels = label_encoder.inverse_transform(predictions_test)\n",
    "print(prediction_labels[:100:10])\n",
    "print(y_test[:100:10])"
   ]
  },
  {
   "cell_type": "code",
   "execution_count": 18,
   "metadata": {},
   "outputs": [
    {
     "name": "stdout",
     "output_type": "stream",
     "text": [
      "              precision    recall  f1-score   support\n",
      "\n",
      "         Bad       0.57      0.18      0.28       270\n",
      "   Excellent       0.39      0.20      0.26       167\n",
      "        Good       0.69      0.91      0.78       828\n",
      "\n",
      "    accuracy                           0.66      1265\n",
      "   macro avg       0.55      0.43      0.44      1265\n",
      "weighted avg       0.62      0.66      0.61      1265\n",
      "\n"
     ]
    }
   ],
   "source": [
    "# CLassification report\n",
    "from sklearn.metrics import classification_report\n",
    "print(classification_report(y_test, prediction_labels))"
   ]
  },
  {
   "cell_type": "code",
   "execution_count": 19,
   "metadata": {},
   "outputs": [
    {
     "data": {
      "text/plain": [
       "array([[ 49,   8, 213],\n",
       "       [  6,  33, 128],\n",
       "       [ 31,  43, 754]], dtype=int64)"
      ]
     },
     "execution_count": 19,
     "metadata": {},
     "output_type": "execute_result"
    }
   ],
   "source": [
    "# Confusion matrix\n",
    "from sklearn.metrics import confusion_matrix as cm\n",
    "cm(y_test, prediction_labels)"
   ]
  },
  {
   "cell_type": "markdown",
   "metadata": {},
   "source": [
    "## Grid Search"
   ]
  },
  {
   "cell_type": "code",
   "execution_count": 14,
   "metadata": {},
   "outputs": [],
   "source": [
    "from sklearn.model_selection import GridSearchCV\n",
    "C = [1, 5, 10]\n",
    "max_iter = [500, 750, 1000]\n",
    "param_grid = dict(C=C, max_iter=max_iter)\n",
    "grid = GridSearchCV(log_model, param_grid, verbose=2, scoring = \"accuracy\")"
   ]
  },
  {
   "cell_type": "code",
   "execution_count": 15,
   "metadata": {},
   "outputs": [
    {
     "data": {
      "text/plain": [
       "dict_keys(['C', 'class_weight', 'dual', 'fit_intercept', 'intercept_scaling', 'l1_ratio', 'max_iter', 'multi_class', 'n_jobs', 'penalty', 'random_state', 'solver', 'tol', 'verbose', 'warm_start'])"
      ]
     },
     "execution_count": 15,
     "metadata": {},
     "output_type": "execute_result"
    }
   ],
   "source": [
    "log_model.get_params().keys()"
   ]
  },
  {
   "cell_type": "code",
   "execution_count": 17,
   "metadata": {},
   "outputs": [
    {
     "name": "stdout",
     "output_type": "stream",
     "text": [
      "Fitting 5 folds for each of 9 candidates, totalling 45 fits\n",
      "[CV] C=1, max_iter=500 ...............................................\n"
     ]
    },
    {
     "name": "stderr",
     "output_type": "stream",
     "text": [
      "[Parallel(n_jobs=1)]: Using backend SequentialBackend with 1 concurrent workers.\n"
     ]
    },
    {
     "name": "stdout",
     "output_type": "stream",
     "text": [
      "[CV] ................................ C=1, max_iter=500, total=   4.3s\n",
      "[CV] C=1, max_iter=500 ...............................................\n"
     ]
    },
    {
     "name": "stderr",
     "output_type": "stream",
     "text": [
      "[Parallel(n_jobs=1)]: Done   1 out of   1 | elapsed:    4.2s remaining:    0.0s\n"
     ]
    },
    {
     "name": "stdout",
     "output_type": "stream",
     "text": [
      "[CV] ................................ C=1, max_iter=500, total=   4.2s\n",
      "[CV] C=1, max_iter=500 ...............................................\n",
      "[CV] ................................ C=1, max_iter=500, total=   4.4s\n",
      "[CV] C=1, max_iter=500 ...............................................\n",
      "[CV] ................................ C=1, max_iter=500, total=   4.6s\n",
      "[CV] C=1, max_iter=500 ...............................................\n",
      "[CV] ................................ C=1, max_iter=500, total=   5.0s\n",
      "[CV] C=1, max_iter=750 ...............................................\n",
      "[CV] ................................ C=1, max_iter=750, total=   6.9s\n",
      "[CV] C=1, max_iter=750 ...............................................\n",
      "[CV] ................................ C=1, max_iter=750, total=   4.7s\n",
      "[CV] C=1, max_iter=750 ...............................................\n",
      "[CV] ................................ C=1, max_iter=750, total=   4.5s\n",
      "[CV] C=1, max_iter=750 ...............................................\n",
      "[CV] ................................ C=1, max_iter=750, total=   4.8s\n",
      "[CV] C=1, max_iter=750 ...............................................\n",
      "[CV] ................................ C=1, max_iter=750, total=   5.4s\n",
      "[CV] C=1, max_iter=1000 ..............................................\n",
      "[CV] ............................... C=1, max_iter=1000, total=   5.1s\n",
      "[CV] C=1, max_iter=1000 ..............................................\n",
      "[CV] ............................... C=1, max_iter=1000, total=   4.7s\n",
      "[CV] C=1, max_iter=1000 ..............................................\n",
      "[CV] ............................... C=1, max_iter=1000, total=   5.0s\n",
      "[CV] C=1, max_iter=1000 ..............................................\n",
      "[CV] ............................... C=1, max_iter=1000, total=   4.4s\n",
      "[CV] C=1, max_iter=1000 ..............................................\n",
      "[CV] ............................... C=1, max_iter=1000, total=   4.6s\n",
      "[CV] C=5, max_iter=500 ...............................................\n",
      "[CV] ................................ C=5, max_iter=500, total=   7.3s\n",
      "[CV] C=5, max_iter=500 ...............................................\n",
      "[CV] ................................ C=5, max_iter=500, total=   8.0s\n",
      "[CV] C=5, max_iter=500 ...............................................\n",
      "[CV] ................................ C=5, max_iter=500, total=   7.4s\n",
      "[CV] C=5, max_iter=500 ...............................................\n",
      "[CV] ................................ C=5, max_iter=500, total=   8.4s\n",
      "[CV] C=5, max_iter=500 ...............................................\n",
      "[CV] ................................ C=5, max_iter=500, total=   9.3s\n",
      "[CV] C=5, max_iter=750 ...............................................\n",
      "[CV] ................................ C=5, max_iter=750, total=   7.6s\n",
      "[CV] C=5, max_iter=750 ...............................................\n",
      "[CV] ................................ C=5, max_iter=750, total=   8.4s\n",
      "[CV] C=5, max_iter=750 ...............................................\n",
      "[CV] ................................ C=5, max_iter=750, total=   8.1s\n",
      "[CV] C=5, max_iter=750 ...............................................\n",
      "[CV] ................................ C=5, max_iter=750, total=   8.4s\n",
      "[CV] C=5, max_iter=750 ...............................................\n",
      "[CV] ................................ C=5, max_iter=750, total=   8.6s\n",
      "[CV] C=5, max_iter=1000 ..............................................\n",
      "[CV] ............................... C=5, max_iter=1000, total=   7.7s\n",
      "[CV] C=5, max_iter=1000 ..............................................\n",
      "[CV] ............................... C=5, max_iter=1000, total=   8.3s\n",
      "[CV] C=5, max_iter=1000 ..............................................\n",
      "[CV] ............................... C=5, max_iter=1000, total=   8.0s\n",
      "[CV] C=5, max_iter=1000 ..............................................\n",
      "[CV] ............................... C=5, max_iter=1000, total=   8.3s\n",
      "[CV] C=5, max_iter=1000 ..............................................\n",
      "[CV] ............................... C=5, max_iter=1000, total=   8.3s\n",
      "[CV] C=10, max_iter=500 ..............................................\n",
      "[CV] ............................... C=10, max_iter=500, total=  10.7s\n",
      "[CV] C=10, max_iter=500 ..............................................\n"
     ]
    },
    {
     "name": "stderr",
     "output_type": "stream",
     "text": [
      "C:\\Users\\jewel\\AppData\\Local\\Continuum\\anaconda3\\envs\\PythonAdv\\lib\\site-packages\\sklearn\\linear_model\\_logistic.py:764: ConvergenceWarning: lbfgs failed to converge (status=1):\n",
      "STOP: TOTAL NO. of ITERATIONS REACHED LIMIT.\n",
      "\n",
      "Increase the number of iterations (max_iter) or scale the data as shown in:\n",
      "    https://scikit-learn.org/stable/modules/preprocessing.html\n",
      "Please also refer to the documentation for alternative solver options:\n",
      "    https://scikit-learn.org/stable/modules/linear_model.html#logistic-regression\n",
      "  extra_warning_msg=_LOGISTIC_SOLVER_CONVERGENCE_MSG)\n"
     ]
    },
    {
     "name": "stdout",
     "output_type": "stream",
     "text": [
      "[CV] ............................... C=10, max_iter=500, total=  11.2s\n",
      "[CV] C=10, max_iter=500 ..............................................\n",
      "[CV] ............................... C=10, max_iter=500, total=   8.8s\n",
      "[CV] C=10, max_iter=500 ..............................................\n",
      "[CV] ............................... C=10, max_iter=500, total=   9.6s\n",
      "[CV] C=10, max_iter=500 ..............................................\n",
      "[CV] ............................... C=10, max_iter=500, total=   9.6s\n",
      "[CV] C=10, max_iter=750 ..............................................\n",
      "[CV] ............................... C=10, max_iter=750, total=   9.9s\n",
      "[CV] C=10, max_iter=750 ..............................................\n",
      "[CV] ............................... C=10, max_iter=750, total=  10.1s\n",
      "[CV] C=10, max_iter=750 ..............................................\n",
      "[CV] ............................... C=10, max_iter=750, total=   8.8s\n",
      "[CV] C=10, max_iter=750 ..............................................\n",
      "[CV] ............................... C=10, max_iter=750, total=   9.5s\n",
      "[CV] C=10, max_iter=750 ..............................................\n",
      "[CV] ............................... C=10, max_iter=750, total=   9.3s\n",
      "[CV] C=10, max_iter=1000 .............................................\n",
      "[CV] .............................. C=10, max_iter=1000, total=  10.0s\n",
      "[CV] C=10, max_iter=1000 .............................................\n",
      "[CV] .............................. C=10, max_iter=1000, total=  10.1s\n",
      "[CV] C=10, max_iter=1000 .............................................\n",
      "[CV] .............................. C=10, max_iter=1000, total=   9.0s\n",
      "[CV] C=10, max_iter=1000 .............................................\n",
      "[CV] .............................. C=10, max_iter=1000, total=  11.7s\n",
      "[CV] C=10, max_iter=1000 .............................................\n",
      "[CV] .............................. C=10, max_iter=1000, total=  10.0s\n"
     ]
    },
    {
     "name": "stderr",
     "output_type": "stream",
     "text": [
      "[Parallel(n_jobs=1)]: Done  45 out of  45 | elapsed:  5.7min finished\n"
     ]
    },
    {
     "data": {
      "text/plain": [
       "GridSearchCV(estimator=LogisticRegression(max_iter=1000),\n",
       "             param_grid={'C': [1, 5, 10], 'max_iter': [500, 750, 1000]},\n",
       "             scoring='accuracy', verbose=2)"
      ]
     },
     "execution_count": 17,
     "metadata": {},
     "output_type": "execute_result"
    }
   ],
   "source": [
    "grid.fit(X_train_scaled, np.ravel(encoded_y_train))"
   ]
  },
  {
   "cell_type": "code",
   "execution_count": 18,
   "metadata": {},
   "outputs": [
    {
     "name": "stdout",
     "output_type": "stream",
     "text": [
      "{'C': 5, 'max_iter': 500}\n"
     ]
    }
   ],
   "source": [
    "print(grid.best_params_)"
   ]
  },
  {
   "cell_type": "code",
   "execution_count": 19,
   "metadata": {},
   "outputs": [
    {
     "name": "stdout",
     "output_type": "stream",
     "text": [
      "0.6658761528326747\n"
     ]
    }
   ],
   "source": [
    "print(grid.best_score_)"
   ]
  },
  {
   "cell_type": "code",
   "execution_count": 28,
   "metadata": {},
   "outputs": [
    {
     "data": {
      "text/plain": [
       "LogisticRegression(C=5, max_iter=500)"
      ]
     },
     "execution_count": 28,
     "metadata": {},
     "output_type": "execute_result"
    }
   ],
   "source": [
    "# Create elasiticnet regression model with best params\n",
    "log_model2 = LogisticRegression(max_iter=500, C= 5)\n",
    "log_model2.fit(X_train_scaled, np.ravel(encoded_y_train))\n"
   ]
  },
  {
   "cell_type": "code",
   "execution_count": 29,
   "metadata": {},
   "outputs": [
    {
     "name": "stdout",
     "output_type": "stream",
     "text": [
      "Logistic Regression Training Score:  0.957\n",
      "Logistic Regression Testing Score:  0.659\n"
     ]
    }
   ],
   "source": [
    "training_score = log_model2.score(X_train_scaled, encoded_y_train)\n",
    "testing_score = log_model2.score(X_test_scaled, encoded_y_test)\n",
    "print(f\"Logistic Regression Training Score: {training_score: .3f}\")\n",
    "print(f\"Logistic Regression Testing Score: {testing_score: .3f}\")"
   ]
  },
  {
   "cell_type": "code",
   "execution_count": 30,
   "metadata": {},
   "outputs": [
    {
     "name": "stdout",
     "output_type": "stream",
     "text": [
      "['Good' 'Good' 'Good' 'Good' 'Good' 'Good' 'Excellent' 'Good' 'Good'\n",
      " 'Good']\n",
      "[['Good']\n",
      " ['Good']\n",
      " ['Good']\n",
      " ['Excellent']\n",
      " ['Good']\n",
      " ['Good']\n",
      " ['Good']\n",
      " ['Good']\n",
      " ['Good']\n",
      " ['Good']]\n"
     ]
    }
   ],
   "source": [
    "predictions_train = log_model2.predict(X_train_scaled)\n",
    "predictions_test = log_model2.predict(X_test_scaled)\n",
    "prediction_labels = label_encoder.inverse_transform(predictions_test)\n",
    "print(prediction_labels[:100:10])\n",
    "print(y_test[:100:10])"
   ]
  },
  {
   "cell_type": "markdown",
   "metadata": {},
   "source": [
    "## Plot Residuals"
   ]
  },
  {
   "cell_type": "code",
   "execution_count": 25,
   "metadata": {},
   "outputs": [
    {
     "data": {
      "text/plain": [
       "0.9573122529644269"
      ]
     },
     "execution_count": 25,
     "metadata": {},
     "output_type": "execute_result"
    }
   ],
   "source": [
    "from sklearn.metrics import mean_squared_error\n",
    "predictions_test = log_model.predict(X_test_scaled)\n",
    "\n",
    "MSE = mean_squared_error(encoded_y_test, predictions_test)\n",
    "MSE\n"
   ]
  },
  {
   "cell_type": "markdown",
   "metadata": {},
   "source": [
    "## Save Model"
   ]
  },
  {
   "cell_type": "code",
   "execution_count": 32,
   "metadata": {},
   "outputs": [
    {
     "data": {
      "text/plain": [
       "['logistic.sav']"
      ]
     },
     "execution_count": 32,
     "metadata": {},
     "output_type": "execute_result"
    }
   ],
   "source": [
    "import joblib\n",
    "filename = 'logistic.sav'\n",
    "joblib.dump(log_model2, filename)\n"
   ]
  },
  {
   "cell_type": "code",
   "execution_count": null,
   "metadata": {},
   "outputs": [],
   "source": []
  }
 ],
 "metadata": {
  "kernelspec": {
   "display_name": "PythonAdv",
   "language": "python",
   "name": "pythonadv"
  },
  "language_info": {
   "codemirror_mode": {
    "name": "ipython",
    "version": 3
   },
   "file_extension": ".py",
   "mimetype": "text/x-python",
   "name": "python",
   "nbconvert_exporter": "python",
   "pygments_lexer": "ipython3",
   "version": "3.6.10"
  }
 },
 "nbformat": 4,
 "nbformat_minor": 4
}
